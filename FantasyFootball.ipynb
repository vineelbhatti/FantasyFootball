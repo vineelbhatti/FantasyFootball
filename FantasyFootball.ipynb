{
  "nbformat": 4,
  "nbformat_minor": 0,
  "metadata": {
    "colab": {
      "provenance": [],
      "authorship_tag": "ABX9TyMGnLCyO15PFVX3Edp5QH4b",
      "include_colab_link": true
    },
    "kernelspec": {
      "name": "python3",
      "display_name": "Python 3"
    },
    "language_info": {
      "name": "python"
    }
  },
  "cells": [
    {
      "cell_type": "markdown",
      "metadata": {
        "id": "view-in-github",
        "colab_type": "text"
      },
      "source": [
        "<a href=\"https://colab.research.google.com/github/vineelbhatti/FantasyFootball/blob/main/FantasyFootball.ipynb\" target=\"_parent\"><img src=\"https://colab.research.google.com/assets/colab-badge.svg\" alt=\"Open In Colab\"/></a>"
      ]
    },
    {
      "cell_type": "code",
      "execution_count": 248,
      "metadata": {
        "id": "4pq0rzkE62mi"
      },
      "outputs": [],
      "source": [
        "#Import modules\n",
        "import pandas as pd\n",
        "import seaborn as sns\n",
        "import matplotlib.pyplot as plt\n",
        "import plotly.express as px"
      ]
    },
    {
      "cell_type": "code",
      "source": [
        "#Open full, unmodified dataset\n",
        "full_df = pd.read_csv(\"adp_merged_7_17.csv\")\n",
        "print(full_df.head())"
      ],
      "metadata": {
        "colab": {
          "base_uri": "https://localhost:8080/"
        },
        "id": "Ova9qMdn9Sje",
        "outputId": "94389a53-a735-4b05-e27c-ca84bc5cad7d"
      },
      "execution_count": 249,
      "outputs": [
        {
          "output_type": "stream",
          "name": "stdout",
          "text": [
            "   Year             name position team  adp  PlayerID\n",
            "0  2017    David Johnson       RB  ARI  1.3  JohnDa08\n",
            "1  2017     Le'Veon Bell       RB  PIT  2.3  BellLe00\n",
            "2  2017    Antonio Brown       WR  PIT  3.7  BrowAn04\n",
            "3  2017      Julio Jones       WR  ATL  5.7  JoneJu02\n",
            "4  2017  Ezekiel Elliott       RB  DAL  6.2  ElliEz00\n"
          ]
        }
      ]
    },
    {
      "cell_type": "code",
      "source": [
        "#Check columns of full dataset\n",
        "full_df.columns"
      ],
      "metadata": {
        "colab": {
          "base_uri": "https://localhost:8080/"
        },
        "id": "ZhhKYZzW92SN",
        "outputId": "c96c4f9e-28a8-4fe4-90e0-c4b5e8266518"
      },
      "execution_count": 250,
      "outputs": [
        {
          "output_type": "execute_result",
          "data": {
            "text/plain": [
              "Index(['Year', 'name', 'position', 'team', 'adp', 'PlayerID'], dtype='object')"
            ]
          },
          "metadata": {},
          "execution_count": 250
        }
      ]
    },
    {
      "cell_type": "code",
      "source": [
        "'''\n",
        "The first task will be to the number of first round picks\n",
        "per position by year.\n",
        "'''"
      ],
      "metadata": {
        "colab": {
          "base_uri": "https://localhost:8080/",
          "height": 35
        },
        "id": "kbmqyAHb-AyW",
        "outputId": "1d417de4-b542-4fd9-c5a8-709ea60c279d"
      },
      "execution_count": 251,
      "outputs": [
        {
          "output_type": "execute_result",
          "data": {
            "text/plain": [
              "'\\nThe first task will be to the number of first round picks\\nper position by year.\\n'"
            ],
            "application/vnd.google.colaboratory.intrinsic+json": {
              "type": "string"
            }
          },
          "metadata": {},
          "execution_count": 251
        }
      ]
    },
    {
      "cell_type": "code",
      "source": [
        "#For now, name, team, and PlayerID are unnecessary,\n",
        "#so we can create a new dataframe without these columns"
      ],
      "metadata": {
        "id": "1B-OFsSN-OZb"
      },
      "execution_count": 252,
      "outputs": []
    },
    {
      "cell_type": "code",
      "source": [
        "#axis=0 means that we are removing rows\n",
        "#axis=1 means that we are removing columns\n",
        "task1_df = full_df.drop([\"name\", \"team\", \"PlayerID\"], axis=1)\n",
        "task1_df.columns"
      ],
      "metadata": {
        "colab": {
          "base_uri": "https://localhost:8080/"
        },
        "id": "hyT7ytO_-arD",
        "outputId": "a4a3976d-540a-4f6c-c2f3-556087d37a42"
      },
      "execution_count": 253,
      "outputs": [
        {
          "output_type": "execute_result",
          "data": {
            "text/plain": [
              "Index(['Year', 'position', 'adp'], dtype='object')"
            ]
          },
          "metadata": {},
          "execution_count": 253
        }
      ]
    },
    {
      "cell_type": "code",
      "source": [
        "#Assuming a 10 team league, we can drop all entries with an adp greater than 10.\n",
        "#We can also split the dataframe by year"
      ],
      "metadata": {
        "id": "VQs4ZJPN_R5w"
      },
      "execution_count": 254,
      "outputs": []
    },
    {
      "cell_type": "code",
      "source": [
        "task1_df = task1_df[task1_df['adp'] <= 40]\n",
        "print(task1_df.head())"
      ],
      "metadata": {
        "colab": {
          "base_uri": "https://localhost:8080/"
        },
        "id": "MJnksydN_hIL",
        "outputId": "e56aeabf-41ac-4b48-c316-3b914b378e91"
      },
      "execution_count": 255,
      "outputs": [
        {
          "output_type": "stream",
          "name": "stdout",
          "text": [
            "   Year position  adp\n",
            "0  2017       RB  1.3\n",
            "1  2017       RB  2.3\n",
            "2  2017       WR  3.7\n",
            "3  2017       WR  5.7\n",
            "4  2017       RB  6.2\n"
          ]
        }
      ]
    },
    {
      "cell_type": "code",
      "source": [
        "df_qb = task1_df[task1_df['position'] == \"QB\"]\n",
        "df_rb = task1_df[task1_df['position'] == \"RB\"]\n",
        "df_wr = task1_df[task1_df['position'] == \"WR\"]\n",
        "df_te = task1_df[task1_df['position'] == \"TE\"]"
      ],
      "metadata": {
        "id": "s716uF6bBPlJ"
      },
      "execution_count": 256,
      "outputs": []
    },
    {
      "cell_type": "code",
      "source": [
        "df_rb.Year.value_counts()[df_rb.Year.unique()].plot(kind=\"line\")\n",
        "df_wr.Year.value_counts()[df_wr.Year.unique()].plot(kind=\"line\")\n",
        "df_qb.Year.value_counts()[df_qb.Year.unique()].plot(kind=\"line\")\n",
        "df_te.Year.value_counts()[df_te.Year.unique()].plot(kind=\"line\")"
      ],
      "metadata": {
        "id": "tQWFY4wkGCyd"
      },
      "execution_count": null,
      "outputs": []
    },
    {
      "cell_type": "code",
      "source": [
        "'''Task 2'''"
      ],
      "metadata": {
        "id": "9SxYF4LY7E5_"
      },
      "execution_count": null,
      "outputs": []
    },
    {
      "cell_type": "code",
      "source": [
        "df_2022 = full_df[full_df['Year'] == 2022]\n",
        "df_2021 = full_df[full_df['Year'] == 2021]\n",
        "\n",
        "df_stats = pd.read_csv(\"fantasy_merged_7_17.csv\")\n",
        "df_stats = df_stats[df_stats['Year'] == 2022]\n",
        "\n",
        "df_stats.head()"
      ],
      "metadata": {
        "id": "fl0TD7TU7dq8"
      },
      "execution_count": null,
      "outputs": []
    },
    {
      "cell_type": "code",
      "source": [
        "df_2022.rename(columns={'name':'Player'}, inplace=True)\n",
        "df_2021.rename(columns={'name':'Player'}, inplace=True)\n",
        "df_2022.head()"
      ],
      "metadata": {
        "id": "4bo8CWZ99DIb"
      },
      "execution_count": null,
      "outputs": []
    },
    {
      "cell_type": "code",
      "source": [
        "df_2022 = df_2022[df_2022['position'] != \"QB\"]\n",
        "df_2021 = df_2021[df_2021['position'] != \"QB\"]"
      ],
      "metadata": {
        "id": "dYRY4g2_-4te"
      },
      "execution_count": 261,
      "outputs": []
    },
    {
      "cell_type": "code",
      "source": [
        "df_final22 = pd.merge(df_stats, df_2022, on='Player')\n",
        "df_final21 = pd.merge(df_stats, df_2021, on='Player')\n",
        "\n",
        "#df_final22.head()"
      ],
      "metadata": {
        "id": "KLkb39nM71Ve"
      },
      "execution_count": 262,
      "outputs": []
    },
    {
      "cell_type": "code",
      "source": [
        "#sns.scatterplot(x = \"adp\", y = \"PPR\", data=df_final22)\n",
        "#sns.scatterplot(x = \"adp\", y = \"PPR\", data=df_final21)\n",
        "\n",
        "fig = px.scatter(x=df_final22[\"adp\"], y=df_final22[\"PPR\"], color = df_final22[\"position\"], hover_name = df_final22[\"Player\"])\n",
        "fig.show()"
      ],
      "metadata": {
        "colab": {
          "base_uri": "https://localhost:8080/",
          "height": 542
        },
        "id": "i7HrIBjo97CQ",
        "outputId": "2f0277df-9189-4410-9f34-19bc0fdbf06e"
      },
      "execution_count": 263,
      "outputs": [
        {
          "output_type": "display_data",
          "data": {
            "text/html": [
              "<html>\n",
              "<head><meta charset=\"utf-8\" /></head>\n",
              "<body>\n",
              "    <div>            <script src=\"https://cdnjs.cloudflare.com/ajax/libs/mathjax/2.7.5/MathJax.js?config=TeX-AMS-MML_SVG\"></script><script type=\"text/javascript\">if (window.MathJax && window.MathJax.Hub && window.MathJax.Hub.Config) {window.MathJax.Hub.Config({SVG: {font: \"STIX-Web\"}});}</script>                <script type=\"text/javascript\">window.PlotlyConfig = {MathJaxConfig: 'local'};</script>\n",
              "        <script charset=\"utf-8\" src=\"https://cdn.plot.ly/plotly-2.24.1.min.js\"></script>                <div id=\"99803485-f5a7-484e-bd14-a70dba1fc714\" class=\"plotly-graph-div\" style=\"height:525px; width:100%;\"></div>            <script type=\"text/javascript\">                                    window.PLOTLYENV=window.PLOTLYENV || {};                                    if (document.getElementById(\"99803485-f5a7-484e-bd14-a70dba1fc714\")) {                    Plotly.newPlot(                        \"99803485-f5a7-484e-bd14-a70dba1fc714\",                        [{\"hovertemplate\":\"\\u003cb\\u003e%{hovertext}\\u003c\\u002fb\\u003e\\u003cbr\\u003e\\u003cbr\\u003ecolor=RB\\u003cbr\\u003ex=%{x}\\u003cbr\\u003ey=%{y}\\u003cextra\\u003e\\u003c\\u002fextra\\u003e\",\"hovertext\":[\"Austin Ekeler\",\"Christian McCaffrey\",\"Josh Jacobs\",\"Derrick Henry\",\"Saquon Barkley\",\"Nick Chubb\",\"Rhamondre Stevenson\",\"Tony Pollard\",\"Aaron Jones\",\"Joe Mixon\",\"Dalvin Cook\",\"Leonard Fournette\",\"Jamaal Williams\",\"Najee Harris\",\"Miles Sanders\",\"Alvin Kamara\",\"Travis Etienne\",\"Kenneth Walker III\",\"James Conner\",\"D'Andre Swift\",\"Ezekiel Elliott\",\"Devin Singletary\",\"David Montgomery\",\"Raheem Mostert\",\"Dameon Pierce\",\"Antonio Gibson\",\"Tyler Allgeier\",\"Cordarrelle Patterson\",\"Jonathan Taylor\",\"Cam Akers\",\"Rachaad White\",\"Isiah Pacheco\",\"Kareem Hunt\",\"Michael Carter\",\"Breece Hall\",\"Brian Robinson Jr.\",\"James Cook\",\"Clyde Edwards-Helaire\",\"Damien Harris\",\"James Robinson\",\"Alexander Mattison\",\"Kenneth Gainwell\",\"Melvin Gordon\",\"Nyheim Hines\",\"J.K. Dobbins\",\"Chase Edmonds\",\"Darrell Henderson\",\"J.D. McKissic\",\"Rashaad Penny\",\"Elijah Mitchell\",\"Javonte Williams\",\"Zamir White\"],\"legendgroup\":\"RB\",\"marker\":{\"color\":\"#636efa\",\"symbol\":\"circle\"},\"mode\":\"markers\",\"name\":\"RB\",\"orientation\":\"v\",\"showlegend\":true,\"x\":[2.7,2.4,46.8,4.3,15.5,18.8,76.0,70.8,14.9,10.1,7.5,21.9,121.7,7.1,61.7,10.9,33.6,92.9,28.4,12.8,27.7,74.4,39.3,101.9,70.5,114.7,107.6,91.4,1.3,33.1,123.3,118.0,68.9,113.3,44.4,112.7,92.0,54.3,59.8,101.5,128.9,105.8,85.4,93.9,38.8,69.6,111.9,110.2,63.3,42.4,20.2,130.5],\"xaxis\":\"x\",\"y\":[372.7,356.4,328.3,302.8,284.0,281.4,249.1,248.8,248.6,239.5,237.8,226.1,225.9,223.5,216.7,211.7,205.1,202.5,200.2,191.1,185.8,177.9,177.7,168.3,166.4,165.9,159.4,154.7,146.4,141.3,139.1,135.0,126.8,126.0,115.1,112.7,105.7,98.3,90.9,88.6,88.4,87.9,87.1,81.4,81.2,74.2,73.5,55.8,52.2,43.6,42.0,7.0],\"yaxis\":\"y\",\"type\":\"scatter\"},{\"hovertemplate\":\"\\u003cb\\u003e%{hovertext}\\u003c\\u002fb\\u003e\\u003cbr\\u003e\\u003cbr\\u003ecolor=WR\\u003cbr\\u003ex=%{x}\\u003cbr\\u003ey=%{y}\\u003cextra\\u003e\\u003c\\u002fextra\\u003e\",\"hovertext\":[\"Justin Jefferson\",\"Tyreek Hill\",\"Davante Adams\",\"Stefon Diggs\",\"CeeDee Lamb\",\"A.J. Brown\",\"Amon-Ra St. Brown\",\"Jaylen Waddle\",\"DeVonta Smith\",\"Amari Cooper\",\"Ja'Marr Chase\",\"Christian Kirk\",\"Tyler Lockett\",\"Terry McLaurin\",\"Brandon Aiyuk\",\"D.K. Metcalf\",\"Mike Evans\",\"Chris Godwin\",\"Tee Higgins\",\"Michael Pittman Jr.\",\"Jerry Jeudy\",\"Cooper Kupp\",\"D.J. Moore\",\"Chris Olave\",\"JuJu Smith-Schuster\",\"Diontae Johnson\",\"Adam Thielen\",\"Drake London\",\"Mike Williams\",\"Allen Lazard\",\"Gabriel Davis\",\"Deebo Samuel\",\"Tyler Boyd\",\"George Pickens\",\"Keenan Allen\",\"Courtland Sutton\",\"Marquise Brown\",\"DeAndre Hopkins\",\"Brandin Cooks\",\"Marquez Valdes-Scantling\",\"Isaiah McKenzie\",\"Robert Woods\",\"Michael Gallup\",\"Chase Claypool\",\"DeVante Parker\",\"Romeo Doubs\",\"Darnell Mooney\",\"Nico Collins\",\"Treylon Burks\",\"Elijah Moore\",\"Rondale Moore\",\"Allen Robinson\",\"Hunter Renfrow\",\"Julio Jones\",\"Kadarius Toney\",\"Rashod Bateman\",\"Michael Thomas\",\"Skyy Moore\"],\"legendgroup\":\"WR\",\"marker\":{\"color\":\"#EF553B\",\"symbol\":\"circle\"},\"mode\":\"markers\",\"name\":\"WR\",\"orientation\":\"v\",\"showlegend\":true,\"x\":[4.6,22.7,12.0,13.6,17.5,30.4,73.4,47.7,86.6,84.2,8.7,96.2,112.5,38.0,90.0,51.4,26.5,56.5,32.5,24.9,61.7,5.7,35.9,110.4,75.9,43.4,63.8,102.2,39.6,89.5,62.9,19.6,123.0,123.6,29.5,45.3,68.7,90.0,56.7,129.0,152.6,102.5,118.2,133.7,134.9,134.1,68.1,153.8,129.3,87.9,142.5,53.5,71.2,120.9,102.7,81.0,52.3,118.1],\"xaxis\":\"x\",\"y\":[368.7,347.2,335.5,316.6,301.6,299.6,267.6,259.2,254.6,246.0,242.4,241.9,237.3,229.0,227.8,226.8,225.4,222.8,220.9,216.5,204.2,201.4,199.1,198.2,185.3,180.7,180.0,178.6,176.5,174.8,171.6,168.4,167.1,166.5,164.0,159.4,156.0,151.7,145.6,122.4,119.8,115.7,105.4,105.0,102.9,101.6,101.5,97.1,94.1,88.1,87.9,84.9,79.0,70.4,57.3,53.5,51.1,43.4],\"yaxis\":\"y\",\"type\":\"scatter\"},{\"hovertemplate\":\"\\u003cb\\u003e%{hovertext}\\u003c\\u002fb\\u003e\\u003cbr\\u003e\\u003cbr\\u003ecolor=TE\\u003cbr\\u003ex=%{x}\\u003cbr\\u003ey=%{y}\\u003cextra\\u003e\\u003c\\u002fextra\\u003e\",\"hovertext\":[\"Travis Kelce\",\"T.J. Hockenson\",\"George Kittle\",\"Mark Andrews\",\"Pat Freiermuth\",\"Cole Kmet\",\"Dalton Schultz\",\"Dallas Goedert\",\"Dawson Knox\",\"Zach Ertz\",\"Hunter Henry\",\"Darren Waller\",\"Kyle Pitts\",\"Irv Smith Jr.\"],\"legendgroup\":\"TE\",\"marker\":{\"color\":\"#00cc96\",\"symbol\":\"circle\"},\"mode\":\"markers\",\"name\":\"TE\",\"orientation\":\"v\",\"showlegend\":true,\"x\":[16.5,120.2,44.2,25.5,100.0,103.6,62.6,75.2,111.5,89.0,134.1,50.4,31.2,146.0],\"xaxis\":\"x\",\"y\":[316.3,215.4,200.5,190.5,148.2,147.3,142.7,141.2,135.7,115.6,103.9,84.8,75.6,55.2],\"yaxis\":\"y\",\"type\":\"scatter\"}],                        {\"template\":{\"data\":{\"histogram2dcontour\":[{\"type\":\"histogram2dcontour\",\"colorbar\":{\"outlinewidth\":0,\"ticks\":\"\"},\"colorscale\":[[0.0,\"#0d0887\"],[0.1111111111111111,\"#46039f\"],[0.2222222222222222,\"#7201a8\"],[0.3333333333333333,\"#9c179e\"],[0.4444444444444444,\"#bd3786\"],[0.5555555555555556,\"#d8576b\"],[0.6666666666666666,\"#ed7953\"],[0.7777777777777778,\"#fb9f3a\"],[0.8888888888888888,\"#fdca26\"],[1.0,\"#f0f921\"]]}],\"choropleth\":[{\"type\":\"choropleth\",\"colorbar\":{\"outlinewidth\":0,\"ticks\":\"\"}}],\"histogram2d\":[{\"type\":\"histogram2d\",\"colorbar\":{\"outlinewidth\":0,\"ticks\":\"\"},\"colorscale\":[[0.0,\"#0d0887\"],[0.1111111111111111,\"#46039f\"],[0.2222222222222222,\"#7201a8\"],[0.3333333333333333,\"#9c179e\"],[0.4444444444444444,\"#bd3786\"],[0.5555555555555556,\"#d8576b\"],[0.6666666666666666,\"#ed7953\"],[0.7777777777777778,\"#fb9f3a\"],[0.8888888888888888,\"#fdca26\"],[1.0,\"#f0f921\"]]}],\"heatmap\":[{\"type\":\"heatmap\",\"colorbar\":{\"outlinewidth\":0,\"ticks\":\"\"},\"colorscale\":[[0.0,\"#0d0887\"],[0.1111111111111111,\"#46039f\"],[0.2222222222222222,\"#7201a8\"],[0.3333333333333333,\"#9c179e\"],[0.4444444444444444,\"#bd3786\"],[0.5555555555555556,\"#d8576b\"],[0.6666666666666666,\"#ed7953\"],[0.7777777777777778,\"#fb9f3a\"],[0.8888888888888888,\"#fdca26\"],[1.0,\"#f0f921\"]]}],\"heatmapgl\":[{\"type\":\"heatmapgl\",\"colorbar\":{\"outlinewidth\":0,\"ticks\":\"\"},\"colorscale\":[[0.0,\"#0d0887\"],[0.1111111111111111,\"#46039f\"],[0.2222222222222222,\"#7201a8\"],[0.3333333333333333,\"#9c179e\"],[0.4444444444444444,\"#bd3786\"],[0.5555555555555556,\"#d8576b\"],[0.6666666666666666,\"#ed7953\"],[0.7777777777777778,\"#fb9f3a\"],[0.8888888888888888,\"#fdca26\"],[1.0,\"#f0f921\"]]}],\"contourcarpet\":[{\"type\":\"contourcarpet\",\"colorbar\":{\"outlinewidth\":0,\"ticks\":\"\"}}],\"contour\":[{\"type\":\"contour\",\"colorbar\":{\"outlinewidth\":0,\"ticks\":\"\"},\"colorscale\":[[0.0,\"#0d0887\"],[0.1111111111111111,\"#46039f\"],[0.2222222222222222,\"#7201a8\"],[0.3333333333333333,\"#9c179e\"],[0.4444444444444444,\"#bd3786\"],[0.5555555555555556,\"#d8576b\"],[0.6666666666666666,\"#ed7953\"],[0.7777777777777778,\"#fb9f3a\"],[0.8888888888888888,\"#fdca26\"],[1.0,\"#f0f921\"]]}],\"surface\":[{\"type\":\"surface\",\"colorbar\":{\"outlinewidth\":0,\"ticks\":\"\"},\"colorscale\":[[0.0,\"#0d0887\"],[0.1111111111111111,\"#46039f\"],[0.2222222222222222,\"#7201a8\"],[0.3333333333333333,\"#9c179e\"],[0.4444444444444444,\"#bd3786\"],[0.5555555555555556,\"#d8576b\"],[0.6666666666666666,\"#ed7953\"],[0.7777777777777778,\"#fb9f3a\"],[0.8888888888888888,\"#fdca26\"],[1.0,\"#f0f921\"]]}],\"mesh3d\":[{\"type\":\"mesh3d\",\"colorbar\":{\"outlinewidth\":0,\"ticks\":\"\"}}],\"scatter\":[{\"fillpattern\":{\"fillmode\":\"overlay\",\"size\":10,\"solidity\":0.2},\"type\":\"scatter\"}],\"parcoords\":[{\"type\":\"parcoords\",\"line\":{\"colorbar\":{\"outlinewidth\":0,\"ticks\":\"\"}}}],\"scatterpolargl\":[{\"type\":\"scatterpolargl\",\"marker\":{\"colorbar\":{\"outlinewidth\":0,\"ticks\":\"\"}}}],\"bar\":[{\"error_x\":{\"color\":\"#2a3f5f\"},\"error_y\":{\"color\":\"#2a3f5f\"},\"marker\":{\"line\":{\"color\":\"#E5ECF6\",\"width\":0.5},\"pattern\":{\"fillmode\":\"overlay\",\"size\":10,\"solidity\":0.2}},\"type\":\"bar\"}],\"scattergeo\":[{\"type\":\"scattergeo\",\"marker\":{\"colorbar\":{\"outlinewidth\":0,\"ticks\":\"\"}}}],\"scatterpolar\":[{\"type\":\"scatterpolar\",\"marker\":{\"colorbar\":{\"outlinewidth\":0,\"ticks\":\"\"}}}],\"histogram\":[{\"marker\":{\"pattern\":{\"fillmode\":\"overlay\",\"size\":10,\"solidity\":0.2}},\"type\":\"histogram\"}],\"scattergl\":[{\"type\":\"scattergl\",\"marker\":{\"colorbar\":{\"outlinewidth\":0,\"ticks\":\"\"}}}],\"scatter3d\":[{\"type\":\"scatter3d\",\"line\":{\"colorbar\":{\"outlinewidth\":0,\"ticks\":\"\"}},\"marker\":{\"colorbar\":{\"outlinewidth\":0,\"ticks\":\"\"}}}],\"scattermapbox\":[{\"type\":\"scattermapbox\",\"marker\":{\"colorbar\":{\"outlinewidth\":0,\"ticks\":\"\"}}}],\"scatterternary\":[{\"type\":\"scatterternary\",\"marker\":{\"colorbar\":{\"outlinewidth\":0,\"ticks\":\"\"}}}],\"scattercarpet\":[{\"type\":\"scattercarpet\",\"marker\":{\"colorbar\":{\"outlinewidth\":0,\"ticks\":\"\"}}}],\"carpet\":[{\"aaxis\":{\"endlinecolor\":\"#2a3f5f\",\"gridcolor\":\"white\",\"linecolor\":\"white\",\"minorgridcolor\":\"white\",\"startlinecolor\":\"#2a3f5f\"},\"baxis\":{\"endlinecolor\":\"#2a3f5f\",\"gridcolor\":\"white\",\"linecolor\":\"white\",\"minorgridcolor\":\"white\",\"startlinecolor\":\"#2a3f5f\"},\"type\":\"carpet\"}],\"table\":[{\"cells\":{\"fill\":{\"color\":\"#EBF0F8\"},\"line\":{\"color\":\"white\"}},\"header\":{\"fill\":{\"color\":\"#C8D4E3\"},\"line\":{\"color\":\"white\"}},\"type\":\"table\"}],\"barpolar\":[{\"marker\":{\"line\":{\"color\":\"#E5ECF6\",\"width\":0.5},\"pattern\":{\"fillmode\":\"overlay\",\"size\":10,\"solidity\":0.2}},\"type\":\"barpolar\"}],\"pie\":[{\"automargin\":true,\"type\":\"pie\"}]},\"layout\":{\"autotypenumbers\":\"strict\",\"colorway\":[\"#636efa\",\"#EF553B\",\"#00cc96\",\"#ab63fa\",\"#FFA15A\",\"#19d3f3\",\"#FF6692\",\"#B6E880\",\"#FF97FF\",\"#FECB52\"],\"font\":{\"color\":\"#2a3f5f\"},\"hovermode\":\"closest\",\"hoverlabel\":{\"align\":\"left\"},\"paper_bgcolor\":\"white\",\"plot_bgcolor\":\"#E5ECF6\",\"polar\":{\"bgcolor\":\"#E5ECF6\",\"angularaxis\":{\"gridcolor\":\"white\",\"linecolor\":\"white\",\"ticks\":\"\"},\"radialaxis\":{\"gridcolor\":\"white\",\"linecolor\":\"white\",\"ticks\":\"\"}},\"ternary\":{\"bgcolor\":\"#E5ECF6\",\"aaxis\":{\"gridcolor\":\"white\",\"linecolor\":\"white\",\"ticks\":\"\"},\"baxis\":{\"gridcolor\":\"white\",\"linecolor\":\"white\",\"ticks\":\"\"},\"caxis\":{\"gridcolor\":\"white\",\"linecolor\":\"white\",\"ticks\":\"\"}},\"coloraxis\":{\"colorbar\":{\"outlinewidth\":0,\"ticks\":\"\"}},\"colorscale\":{\"sequential\":[[0.0,\"#0d0887\"],[0.1111111111111111,\"#46039f\"],[0.2222222222222222,\"#7201a8\"],[0.3333333333333333,\"#9c179e\"],[0.4444444444444444,\"#bd3786\"],[0.5555555555555556,\"#d8576b\"],[0.6666666666666666,\"#ed7953\"],[0.7777777777777778,\"#fb9f3a\"],[0.8888888888888888,\"#fdca26\"],[1.0,\"#f0f921\"]],\"sequentialminus\":[[0.0,\"#0d0887\"],[0.1111111111111111,\"#46039f\"],[0.2222222222222222,\"#7201a8\"],[0.3333333333333333,\"#9c179e\"],[0.4444444444444444,\"#bd3786\"],[0.5555555555555556,\"#d8576b\"],[0.6666666666666666,\"#ed7953\"],[0.7777777777777778,\"#fb9f3a\"],[0.8888888888888888,\"#fdca26\"],[1.0,\"#f0f921\"]],\"diverging\":[[0,\"#8e0152\"],[0.1,\"#c51b7d\"],[0.2,\"#de77ae\"],[0.3,\"#f1b6da\"],[0.4,\"#fde0ef\"],[0.5,\"#f7f7f7\"],[0.6,\"#e6f5d0\"],[0.7,\"#b8e186\"],[0.8,\"#7fbc41\"],[0.9,\"#4d9221\"],[1,\"#276419\"]]},\"xaxis\":{\"gridcolor\":\"white\",\"linecolor\":\"white\",\"ticks\":\"\",\"title\":{\"standoff\":15},\"zerolinecolor\":\"white\",\"automargin\":true,\"zerolinewidth\":2},\"yaxis\":{\"gridcolor\":\"white\",\"linecolor\":\"white\",\"ticks\":\"\",\"title\":{\"standoff\":15},\"zerolinecolor\":\"white\",\"automargin\":true,\"zerolinewidth\":2},\"scene\":{\"xaxis\":{\"backgroundcolor\":\"#E5ECF6\",\"gridcolor\":\"white\",\"linecolor\":\"white\",\"showbackground\":true,\"ticks\":\"\",\"zerolinecolor\":\"white\",\"gridwidth\":2},\"yaxis\":{\"backgroundcolor\":\"#E5ECF6\",\"gridcolor\":\"white\",\"linecolor\":\"white\",\"showbackground\":true,\"ticks\":\"\",\"zerolinecolor\":\"white\",\"gridwidth\":2},\"zaxis\":{\"backgroundcolor\":\"#E5ECF6\",\"gridcolor\":\"white\",\"linecolor\":\"white\",\"showbackground\":true,\"ticks\":\"\",\"zerolinecolor\":\"white\",\"gridwidth\":2}},\"shapedefaults\":{\"line\":{\"color\":\"#2a3f5f\"}},\"annotationdefaults\":{\"arrowcolor\":\"#2a3f5f\",\"arrowhead\":0,\"arrowwidth\":1},\"geo\":{\"bgcolor\":\"white\",\"landcolor\":\"#E5ECF6\",\"subunitcolor\":\"white\",\"showland\":true,\"showlakes\":true,\"lakecolor\":\"white\"},\"title\":{\"x\":0.05},\"mapbox\":{\"style\":\"light\"}}},\"xaxis\":{\"anchor\":\"y\",\"domain\":[0.0,1.0],\"title\":{\"text\":\"x\"}},\"yaxis\":{\"anchor\":\"x\",\"domain\":[0.0,1.0],\"title\":{\"text\":\"y\"}},\"legend\":{\"title\":{\"text\":\"color\"},\"tracegroupgap\":0},\"margin\":{\"t\":60}},                        {\"responsive\": true}                    ).then(function(){\n",
              "                            \n",
              "var gd = document.getElementById('99803485-f5a7-484e-bd14-a70dba1fc714');\n",
              "var x = new MutationObserver(function (mutations, observer) {{\n",
              "        var display = window.getComputedStyle(gd).display;\n",
              "        if (!display || display === 'none') {{\n",
              "            console.log([gd, 'removed!']);\n",
              "            Plotly.purge(gd);\n",
              "            observer.disconnect();\n",
              "        }}\n",
              "}});\n",
              "\n",
              "// Listen for the removal of the full notebook cells\n",
              "var notebookContainer = gd.closest('#notebook-container');\n",
              "if (notebookContainer) {{\n",
              "    x.observe(notebookContainer, {childList: true});\n",
              "}}\n",
              "\n",
              "// Listen for the clearing of the current output cell\n",
              "var outputEl = gd.closest('.output');\n",
              "if (outputEl) {{\n",
              "    x.observe(outputEl, {childList: true});\n",
              "}}\n",
              "\n",
              "                        })                };                            </script>        </div>\n",
              "</body>\n",
              "</html>"
            ]
          },
          "metadata": {}
        }
      ]
    }
  ]
}